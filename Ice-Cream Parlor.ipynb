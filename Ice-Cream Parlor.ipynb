{
 "cells": [
  {
   "cell_type": "code",
   "execution_count": 1,
   "metadata": {},
   "outputs": [
    {
     "name": "stdout",
     "output_type": "stream",
     "text": [
      "Customer Name: ppp ppp\n",
      "ppp ppp\n",
      "How Many Ice-Cream: 1\n",
      "\n",
      "\n",
      "For Ice-cream 1\n",
      "\u001b[1m         Menu          \u001b[0m\n",
      "\u001b[1m----------**Cone-Type**----------\u001b[0m\n",
      "\u001b[1mType                    Price\u001b[0m\n",
      "1.Plain Cone             1.5\n",
      "2.Waffle Cone            2\n",
      "3.Cup                    1\n",
      "\n",
      "\n",
      "Cone-Type : 2\n",
      "price :  2\n",
      "Scoop Amount : 1\n",
      "price :  2\n",
      "\u001b[1m           Menu          \u001b[0m\n",
      "\u001b[1m-----**Scoop-Flavours**--------\u001b[0m\n",
      "\u001b[1mType                    Price\u001b[0m\n",
      "1.Vanilla                0.5\n",
      "2.Strawberry             0.5\n",
      "3.Chocolate              0.5\n",
      "4.Caramel                0.5\n",
      "5.Mint                   0.5\n",
      "6.Rainbow                0.5\n",
      "7.Coffee                 0.5\n",
      "8.Bubble gum             0.5\n",
      "Scoop Flavour : 3\n",
      "price: 2.5\n",
      "No. of Topping : 1\n",
      "\u001b[1m              Menu          \u001b[0m\n",
      "\u001b[1m----------**Topping-Choices**----------\u001b[0m\n",
      "\u001b[1mType                            price\u001b[0m\n",
      "1.Peanuts                        0.75\n",
      "2.Caramel Sauce                  0.5 \n",
      "3.Rainbow Sprinkles              0.5 \n",
      "4.Pecan                          1   \n",
      "5.Chocolate Sprinkles            0.5 \n",
      "Topping Choice : 1\n",
      "price : 3.25\n",
      "\n",
      "\n",
      "Total 3.25\n"
     ]
    }
   ],
   "source": [
    "\n",
    "\n",
    "import re\n",
    "\n",
    "while True:\n",
    "    a=input(\"Customer Name: \")\n",
    "    if re.findall('[A-Za-z]{2,25}\\s[A-Za-z]{2,25}',a):\n",
    "        print(a)\n",
    "        break\n",
    "    else:\n",
    "        print(\"Invalid Name!\")\n",
    "        print(\"Please enter name & surname.\")\n",
    "        continue        \n",
    "        \n",
    "while True:\n",
    "    try:\n",
    "        Ice=int(input(\"How Many Ice-Cream: \"))\n",
    "        print()\n",
    "    except:\n",
    "        print(\"Wrong Input!.\")\n",
    "    else:\n",
    "        print()\n",
    "        break\n",
    "\n",
    "\n",
    "l=[]\n",
    "for key in range(1,int(Ice+1)):\n",
    "    print('For Ice-cream',key)\n",
    "\n",
    "\n",
    "\n",
    "    print('\\033[1m''         Menu          ''\\033[0m')\n",
    "    print('\\033[1m'\"----------**Cone-Type**----------\"'\\033[0m')\n",
    "    print('\\033[1m'\"Type                    Price\"'\\033[0m')\n",
    "    print(\"1.Plain Cone             1.5\")\n",
    "    print(\"2.Waffle Cone            2\")\n",
    "    print(\"3.Cup                    1\")\n",
    "    print(\"\\n\")\n",
    "\n",
    "    while True:\n",
    "        try:\n",
    "            cone=int(input(\"Cone-Type : \"))\n",
    "            if cone>3:\n",
    "                print(\"Max 3 cone Avilable!\")\n",
    "                continue\n",
    "        except:\n",
    "            print(\"Invalid Input!\")\n",
    "        else:\n",
    "            if cone==1:\n",
    "                a=1.5\n",
    "                print(\"price : \",a)\n",
    "            elif cone==2:\n",
    "                a=2\n",
    "                print(\"price : \",a)\n",
    "            elif cone==3:\n",
    "                a=1\n",
    "                print(\"price : \",a)\n",
    "            break\n",
    "\n",
    "        \n",
    "    while True:\n",
    "        try:\n",
    "            Scoop=int(input(\"Scoop Amount : \"))\n",
    "            if Scoop>3:\n",
    "                print(\"Max 3 scoop are avilable!\")\n",
    "                continue\n",
    "        except:\n",
    "            print(\"Invalid Input!\")\n",
    "        else:\n",
    "            price=a*Scoop\n",
    "            print(\"price : \",price)\n",
    "            break\n",
    "    #------------------------------------------------------------------------------------------------------\n",
    "            \n",
    "    print('\\033[1m''           Menu          ''\\033[0m')\n",
    "    print('\\033[1m'\"-----**Scoop-Flavours**--------\"'\\033[0m')\n",
    "    print('\\033[1m'\"Type                    Price\"'\\033[0m')\n",
    "    print(\"1.Vanilla                0.5\")\n",
    "    print(\"2.Strawberry             0.5\")\n",
    "    print(\"3.Chocolate              0.5\")\n",
    "    print(\"4.Caramel                0.5\")\n",
    "    print(\"5.Mint                   0.5\") \n",
    "    print(\"6.Rainbow                0.5\")\n",
    "    print(\"7.Coffee                 0.5\")\n",
    "    print(\"8.Bubble gum             0.5\")\n",
    "    while True:\n",
    "        try:\n",
    "            Scoop_f=int(input(\"Scoop Flavour : \"))\n",
    "            if Scoop_f>=9:\n",
    "                print(\"Invalid Flavour!\")\n",
    "                continue\n",
    "        except:\n",
    "            print(\"Invalid Input!\")\n",
    "        else:\n",
    "            price=price+0.5\n",
    "            print('price:',price)\n",
    "            break\n",
    "        \n",
    "        \n",
    "    while True:\n",
    "        try:\n",
    "            Topping=int(input(\"No. of Topping : \"))\n",
    "        except:\n",
    "            print(\"Invalid Input!\")\n",
    "        else:\n",
    "            break\n",
    "            \n",
    "        \n",
    "    print('\\033[1m''              Menu          ''\\033[0m')\n",
    "    print('\\033[1m'\"----------**Topping-Choices**----------\"'\\033[0m')\n",
    "    print('\\033[1m'\"Type\",'                          ',\"price\"'\\033[0m')\n",
    "\n",
    "    print(\"1.Peanuts                        0.75\")\n",
    "    print(\"2.Caramel Sauce                  0.5 \")\n",
    "    print(\"3.Rainbow Sprinkles              0.5 \")\n",
    "    print(\"4.Pecan                          1   \")\n",
    "    print(\"5.Chocolate Sprinkles            0.5 \")\n",
    "        \n",
    "    while True:\n",
    "        try:\n",
    "            choice=int(input(\"Topping Choice : \"))\n",
    "            if choice>5:\n",
    "                print(\"Max 5 toppings are availbale per ice-cream!\")\n",
    "                continue\n",
    "        except:\n",
    "            print(\"Invalid Input!\")\n",
    "        else:\n",
    "            if choice==1:\n",
    "                price2=price+Topping*0.75\n",
    "                print(\"price :\", price2)\n",
    "            elif choice==2:\n",
    "                price2=price+Topping*0.5\n",
    "                print(\"price :\", price2)\n",
    "            elif choice==3:\n",
    "                price2=price+Topping*0.5\n",
    "                print(\"price :\", price2)\n",
    "            elif choice==4:\n",
    "                price2=price+Topping*1\n",
    "                print(\"price :\", price2)\n",
    "            elif choice==5:\n",
    "                price2=price+Topping*0.5\n",
    "                print(\"price :\", price2)\n",
    "            break\n",
    "                \n",
    "    print(\"\\n\")  \n",
    "    l.append(price2)\n",
    "    if key>=2:\n",
    "        for i in range(1,key+1):\n",
    "            for i, num in enumerate(l, start=1):\n",
    "                print(\"Ice-Cream {}: {}\".format(i,num))\n",
    "            break\n",
    "        print(\"Total: \",sum(l))\n",
    "    else:\n",
    "        print(\"Total\",price2)\n",
    "    \n",
    "        \n"
   ]
  },
  {
   "cell_type": "code",
   "execution_count": 2,
   "metadata": {},
   "outputs": [
    {
     "data": {
      "text/plain": [
       "'2\\tIce cream trends\\nIn this second part of Task 2, you should write a Python script that reads and analyses\\nthe ice cream data file (Weekly_Sales.csv) and merge it with the store details file \\n(StoreDetails.csv) and region file (Region.csv) to produce at least FOUR useful graphs \\nthat give insight into the ice cream sales trends.\\n\\n\\nFor example, here are some suggestions:\\n•\\tshow the change in ice cream sales over the period 2010 to 2012\\n•\\tCompare the trends of all stores in a given year.\\n•\\tCompare sales against the different store details (i.e. temperature and unemployment) \\nto see what the relationship between them is (data from StoreDetails.csv).\\n•\\tCompare sales in the five different regions (using the data from the Region.csv to group the stores).\\n\\nNotes:\\n1.\\tYou must at least have 1 graph analysing temperature or unemployment and 1 graph\\ncomparing the sales across the different regions.\\n2.\\tYou must use the Pandas library to store and manipulate the data.\\n3.\\tUse markup and headings to break your Jupyter notebook into sections and give\\ncommentary about what you doing, and discussion of your results.  \\n'"
      ]
     },
     "execution_count": 2,
     "metadata": {},
     "output_type": "execute_result"
    }
   ],
   "source": [
    " \"\"\"2\tIce cream trends\n",
    "In this second part of Task 2, you should write a Python script that reads and analyses\n",
    "the ice cream data file (Weekly_Sales.csv) and merge it with the store details file \n",
    "(StoreDetails.csv) and region file (Region.csv) to produce at least FOUR useful graphs \n",
    "that give insight into the ice cream sales trends.\n",
    "\n",
    "\n",
    "For example, here are some suggestions:\n",
    "•\tshow the change in ice cream sales over the period 2010 to 2012\n",
    "•\tCompare the trends of all stores in a given year.\n",
    "•\tCompare sales against the different store details (i.e. temperature and unemployment) \n",
    "to see what the relationship between them is (data from StoreDetails.csv).\n",
    "•\tCompare sales in the five different regions (using the data from the Region.csv to group the stores).\n",
    "\n",
    "Notes:\n",
    "1.\tYou must at least have 1 graph analysing temperature or unemployment and 1 graph\n",
    "comparing the sales across the different regions.\n",
    "2.\tYou must use the Pandas library to store and manipulate the data.\n",
    "3.\tUse markup and headings to break your Jupyter notebook into sections and give\n",
    "commentary about what you doing, and discussion of your results.  \n",
    "\"\"\""
   ]
  },
  {
   "cell_type": "code",
   "execution_count": 3,
   "metadata": {},
   "outputs": [],
   "source": [
    "import pandas as pd\n",
    "import numpy as np\n",
    "\n",
    "import matplotlib.pyplot as plt\n",
    "import seaborn as sns\n",
    "\n"
   ]
  },
  {
   "cell_type": "code",
   "execution_count": 4,
   "metadata": {},
   "outputs": [
    {
     "data": {
      "text/html": [
       "<div>\n",
       "<style scoped>\n",
       "    .dataframe tbody tr th:only-of-type {\n",
       "        vertical-align: middle;\n",
       "    }\n",
       "\n",
       "    .dataframe tbody tr th {\n",
       "        vertical-align: top;\n",
       "    }\n",
       "\n",
       "    .dataframe thead th {\n",
       "        text-align: right;\n",
       "    }\n",
       "</style>\n",
       "<table border=\"1\" class=\"dataframe\">\n",
       "  <thead>\n",
       "    <tr style=\"text-align: right;\">\n",
       "      <th></th>\n",
       "      <th>Store</th>\n",
       "      <th>Date</th>\n",
       "      <th>Weekly_Sales</th>\n",
       "    </tr>\n",
       "  </thead>\n",
       "  <tbody>\n",
       "    <tr>\n",
       "      <td>0</td>\n",
       "      <td>1</td>\n",
       "      <td>5/02/2010</td>\n",
       "      <td>24924.50</td>\n",
       "    </tr>\n",
       "    <tr>\n",
       "      <td>1</td>\n",
       "      <td>1</td>\n",
       "      <td>12/02/2010</td>\n",
       "      <td>46039.49</td>\n",
       "    </tr>\n",
       "    <tr>\n",
       "      <td>2</td>\n",
       "      <td>1</td>\n",
       "      <td>19/02/2010</td>\n",
       "      <td>41595.55</td>\n",
       "    </tr>\n",
       "    <tr>\n",
       "      <td>3</td>\n",
       "      <td>1</td>\n",
       "      <td>26/02/2010</td>\n",
       "      <td>19403.54</td>\n",
       "    </tr>\n",
       "    <tr>\n",
       "      <td>4</td>\n",
       "      <td>1</td>\n",
       "      <td>5/03/2010</td>\n",
       "      <td>21827.90</td>\n",
       "    </tr>\n",
       "  </tbody>\n",
       "</table>\n",
       "</div>"
      ],
      "text/plain": [
       "   Store        Date  Weekly_Sales\n",
       "0      1   5/02/2010      24924.50\n",
       "1      1  12/02/2010      46039.49\n",
       "2      1  19/02/2010      41595.55\n",
       "3      1  26/02/2010      19403.54\n",
       "4      1   5/03/2010      21827.90"
      ]
     },
     "execution_count": 4,
     "metadata": {},
     "output_type": "execute_result"
    }
   ],
   "source": [
    "df=pd.read_csv('Weekly-Sales.csv')\n",
    "\n",
    "df.isnull().sum()\n",
    "df.head()"
   ]
  },
  {
   "cell_type": "code",
   "execution_count": 26,
   "metadata": {},
   "outputs": [
    {
     "data": {
      "text/plain": [
       "<matplotlib.axes._subplots.AxesSubplot at 0x54162c8>"
      ]
     },
     "execution_count": 26,
     "metadata": {},
     "output_type": "execute_result"
    },
    {
     "data": {
      "image/png": "[encoded data removed]",
      "text/plain": [
       "<Figure size 432x288 with 1 Axes>"
      ]
     },
     "metadata": {
      "needs_background": "light"
     },
     "output_type": "display_data"
    }
   ],
   "source": [
    "D = df.groupby('Store')['Weekly_Sales'].sum()\n",
    "D.plot.bar(x='Store',y='Weekly Sales',color=['black', 'red', 'green', 'blue', 'cyan'])"
   ]
  },
  {
   "cell_type": "code",
   "execution_count": null,
   "metadata": {},
   "outputs": [],
   "source": []
  },
  {
   "cell_type": "code",
   "execution_count": 6,
   "metadata": {},
   "outputs": [
    {
     "data": {
      "text/html": [
       "<div>\n",
       "<style scoped>\n",
       "    .dataframe tbody tr th:only-of-type {\n",
       "        vertical-align: middle;\n",
       "    }\n",
       "\n",
       "    .dataframe tbody tr th {\n",
       "        vertical-align: top;\n",
       "    }\n",
       "\n",
       "    .dataframe thead th {\n",
       "        text-align: right;\n",
       "    }\n",
       "</style>\n",
       "<table border=\"1\" class=\"dataframe\">\n",
       "  <thead>\n",
       "    <tr style=\"text-align: right;\">\n",
       "      <th></th>\n",
       "      <th>Store</th>\n",
       "      <th>Date</th>\n",
       "      <th>Temperature</th>\n",
       "      <th>Unemployment</th>\n",
       "    </tr>\n",
       "  </thead>\n",
       "  <tbody>\n",
       "    <tr>\n",
       "      <td>0</td>\n",
       "      <td>1</td>\n",
       "      <td>5/02/2010</td>\n",
       "      <td>42.31</td>\n",
       "      <td>8.106</td>\n",
       "    </tr>\n",
       "    <tr>\n",
       "      <td>1</td>\n",
       "      <td>1</td>\n",
       "      <td>12/02/2010</td>\n",
       "      <td>38.51</td>\n",
       "      <td>8.106</td>\n",
       "    </tr>\n",
       "    <tr>\n",
       "      <td>2</td>\n",
       "      <td>1</td>\n",
       "      <td>19/02/2010</td>\n",
       "      <td>39.93</td>\n",
       "      <td>8.106</td>\n",
       "    </tr>\n",
       "    <tr>\n",
       "      <td>3</td>\n",
       "      <td>1</td>\n",
       "      <td>26/02/2010</td>\n",
       "      <td>46.63</td>\n",
       "      <td>8.106</td>\n",
       "    </tr>\n",
       "    <tr>\n",
       "      <td>4</td>\n",
       "      <td>1</td>\n",
       "      <td>5/03/2010</td>\n",
       "      <td>46.50</td>\n",
       "      <td>8.106</td>\n",
       "    </tr>\n",
       "  </tbody>\n",
       "</table>\n",
       "</div>"
      ],
      "text/plain": [
       "   Store        Date  Temperature  Unemployment\n",
       "0      1   5/02/2010        42.31         8.106\n",
       "1      1  12/02/2010        38.51         8.106\n",
       "2      1  19/02/2010        39.93         8.106\n",
       "3      1  26/02/2010        46.63         8.106\n",
       "4      1   5/03/2010        46.50         8.106"
      ]
     },
     "execution_count": 6,
     "metadata": {},
     "output_type": "execute_result"
    }
   ],
   "source": [
    "df2=pd.read_csv('StoreDetails.csv')\n",
    "df2.head()\n"
   ]
  },
  {
   "cell_type": "code",
   "execution_count": 7,
   "metadata": {},
   "outputs": [
    {
     "data": {
      "text/html": [
       "<div>\n",
       "<style scoped>\n",
       "    .dataframe tbody tr th:only-of-type {\n",
       "        vertical-align: middle;\n",
       "    }\n",
       "\n",
       "    .dataframe tbody tr th {\n",
       "        vertical-align: top;\n",
       "    }\n",
       "\n",
       "    .dataframe thead th {\n",
       "        text-align: right;\n",
       "    }\n",
       "</style>\n",
       "<table border=\"1\" class=\"dataframe\">\n",
       "  <thead>\n",
       "    <tr style=\"text-align: right;\">\n",
       "      <th></th>\n",
       "      <th>Store</th>\n",
       "      <th>Date</th>\n",
       "      <th>Weekly_Sales</th>\n",
       "      <th>Temperature</th>\n",
       "      <th>Unemployment</th>\n",
       "    </tr>\n",
       "  </thead>\n",
       "  <tbody>\n",
       "    <tr>\n",
       "      <td>0</td>\n",
       "      <td>1</td>\n",
       "      <td>5/02/2010</td>\n",
       "      <td>24924.50</td>\n",
       "      <td>42.31</td>\n",
       "      <td>8.106</td>\n",
       "    </tr>\n",
       "    <tr>\n",
       "      <td>1</td>\n",
       "      <td>1</td>\n",
       "      <td>12/02/2010</td>\n",
       "      <td>46039.49</td>\n",
       "      <td>38.51</td>\n",
       "      <td>8.106</td>\n",
       "    </tr>\n",
       "    <tr>\n",
       "      <td>2</td>\n",
       "      <td>1</td>\n",
       "      <td>19/02/2010</td>\n",
       "      <td>41595.55</td>\n",
       "      <td>39.93</td>\n",
       "      <td>8.106</td>\n",
       "    </tr>\n",
       "    <tr>\n",
       "      <td>3</td>\n",
       "      <td>1</td>\n",
       "      <td>26/02/2010</td>\n",
       "      <td>19403.54</td>\n",
       "      <td>46.63</td>\n",
       "      <td>8.106</td>\n",
       "    </tr>\n",
       "    <tr>\n",
       "      <td>4</td>\n",
       "      <td>1</td>\n",
       "      <td>5/03/2010</td>\n",
       "      <td>21827.90</td>\n",
       "      <td>46.50</td>\n",
       "      <td>8.106</td>\n",
       "    </tr>\n",
       "  </tbody>\n",
       "</table>\n",
       "</div>"
      ],
      "text/plain": [
       "   Store        Date  Weekly_Sales  Temperature  Unemployment\n",
       "0      1   5/02/2010      24924.50        42.31         8.106\n",
       "1      1  12/02/2010      46039.49        38.51         8.106\n",
       "2      1  19/02/2010      41595.55        39.93         8.106\n",
       "3      1  26/02/2010      19403.54        46.63         8.106\n",
       "4      1   5/03/2010      21827.90        46.50         8.106"
      ]
     },
     "execution_count": 7,
     "metadata": {},
     "output_type": "execute_result"
    }
   ],
   "source": [
    "merge1=pd.merge(df,df2,how='inner',on=['Store','Date'])\n",
    "merge1.head()"
   ]
  },
  {
   "cell_type": "code",
   "execution_count": 8,
   "metadata": {},
   "outputs": [
    {
     "data": {
      "text/plain": [
       "Store           0\n",
       "Date            0\n",
       "Temperature     0\n",
       "Unemployment    0\n",
       "dtype: int64"
      ]
     },
     "execution_count": 8,
     "metadata": {},
     "output_type": "execute_result"
    }
   ],
   "source": [
    "df2.isnull()\n",
    "d=df2.fillna(df2.mean())\n",
    "d.isnull().sum()"
   ]
  },
  {
   "cell_type": "code",
   "execution_count": 9,
   "metadata": {},
   "outputs": [
    {
     "data": {
      "text/html": [
       "<div>\n",
       "<style scoped>\n",
       "    .dataframe tbody tr th:only-of-type {\n",
       "        vertical-align: middle;\n",
       "    }\n",
       "\n",
       "    .dataframe tbody tr th {\n",
       "        vertical-align: top;\n",
       "    }\n",
       "\n",
       "    .dataframe thead th {\n",
       "        text-align: right;\n",
       "    }\n",
       "</style>\n",
       "<table border=\"1\" class=\"dataframe\">\n",
       "  <thead>\n",
       "    <tr style=\"text-align: right;\">\n",
       "      <th></th>\n",
       "      <th>Store</th>\n",
       "      <th>Region</th>\n",
       "    </tr>\n",
       "  </thead>\n",
       "  <tbody>\n",
       "    <tr>\n",
       "      <td>0</td>\n",
       "      <td>1</td>\n",
       "      <td>A</td>\n",
       "    </tr>\n",
       "    <tr>\n",
       "      <td>1</td>\n",
       "      <td>2</td>\n",
       "      <td>A</td>\n",
       "    </tr>\n",
       "    <tr>\n",
       "      <td>2</td>\n",
       "      <td>3</td>\n",
       "      <td>A</td>\n",
       "    </tr>\n",
       "    <tr>\n",
       "      <td>3</td>\n",
       "      <td>4</td>\n",
       "      <td>A</td>\n",
       "    </tr>\n",
       "    <tr>\n",
       "      <td>4</td>\n",
       "      <td>5</td>\n",
       "      <td>A</td>\n",
       "    </tr>\n",
       "  </tbody>\n",
       "</table>\n",
       "</div>"
      ],
      "text/plain": [
       "   Store Region\n",
       "0      1      A\n",
       "1      2      A\n",
       "2      3      A\n",
       "3      4      A\n",
       "4      5      A"
      ]
     },
     "execution_count": 9,
     "metadata": {},
     "output_type": "execute_result"
    }
   ],
   "source": [
    "df3=pd.read_csv('Region.csv')\n",
    "df3.head()"
   ]
  },
  {
   "cell_type": "code",
   "execution_count": 10,
   "metadata": {},
   "outputs": [
    {
     "data": {
      "text/html": [
       "<div>\n",
       "<style scoped>\n",
       "    .dataframe tbody tr th:only-of-type {\n",
       "        vertical-align: middle;\n",
       "    }\n",
       "\n",
       "    .dataframe tbody tr th {\n",
       "        vertical-align: top;\n",
       "    }\n",
       "\n",
       "    .dataframe thead th {\n",
       "        text-align: right;\n",
       "    }\n",
       "</style>\n",
       "<table border=\"1\" class=\"dataframe\">\n",
       "  <thead>\n",
       "    <tr style=\"text-align: right;\">\n",
       "      <th></th>\n",
       "      <th>Store</th>\n",
       "      <th>Date</th>\n",
       "      <th>Weekly_Sales</th>\n",
       "      <th>Temperature</th>\n",
       "      <th>Unemployment</th>\n",
       "      <th>Region</th>\n",
       "    </tr>\n",
       "  </thead>\n",
       "  <tbody>\n",
       "    <tr>\n",
       "      <td>0</td>\n",
       "      <td>1</td>\n",
       "      <td>5/02/2010</td>\n",
       "      <td>24924.50</td>\n",
       "      <td>42.31</td>\n",
       "      <td>8.106</td>\n",
       "      <td>A</td>\n",
       "    </tr>\n",
       "    <tr>\n",
       "      <td>1</td>\n",
       "      <td>1</td>\n",
       "      <td>12/02/2010</td>\n",
       "      <td>46039.49</td>\n",
       "      <td>38.51</td>\n",
       "      <td>8.106</td>\n",
       "      <td>A</td>\n",
       "    </tr>\n",
       "    <tr>\n",
       "      <td>2</td>\n",
       "      <td>1</td>\n",
       "      <td>19/02/2010</td>\n",
       "      <td>41595.55</td>\n",
       "      <td>39.93</td>\n",
       "      <td>8.106</td>\n",
       "      <td>A</td>\n",
       "    </tr>\n",
       "    <tr>\n",
       "      <td>3</td>\n",
       "      <td>1</td>\n",
       "      <td>26/02/2010</td>\n",
       "      <td>19403.54</td>\n",
       "      <td>46.63</td>\n",
       "      <td>8.106</td>\n",
       "      <td>A</td>\n",
       "    </tr>\n",
       "    <tr>\n",
       "      <td>4</td>\n",
       "      <td>1</td>\n",
       "      <td>5/03/2010</td>\n",
       "      <td>21827.90</td>\n",
       "      <td>46.50</td>\n",
       "      <td>8.106</td>\n",
       "      <td>A</td>\n",
       "    </tr>\n",
       "  </tbody>\n",
       "</table>\n",
       "</div>"
      ],
      "text/plain": [
       "   Store        Date  Weekly_Sales  Temperature  Unemployment Region\n",
       "0      1   5/02/2010      24924.50        42.31         8.106      A\n",
       "1      1  12/02/2010      46039.49        38.51         8.106      A\n",
       "2      1  19/02/2010      41595.55        39.93         8.106      A\n",
       "3      1  26/02/2010      19403.54        46.63         8.106      A\n",
       "4      1   5/03/2010      21827.90        46.50         8.106      A"
      ]
     },
     "execution_count": 10,
     "metadata": {},
     "output_type": "execute_result"
    }
   ],
   "source": [
    "merge2=pd.merge(merge1,df3,on='Store')\n",
    "merge2.head()"
   ]
  },
  {
   "cell_type": "code",
   "execution_count": 11,
   "metadata": {},
   "outputs": [
    {
     "data": {
      "text/html": [
       "<div>\n",
       "<style scoped>\n",
       "    .dataframe tbody tr th:only-of-type {\n",
       "        vertical-align: middle;\n",
       "    }\n",
       "\n",
       "    .dataframe tbody tr th {\n",
       "        vertical-align: top;\n",
       "    }\n",
       "\n",
       "    .dataframe thead th {\n",
       "        text-align: right;\n",
       "    }\n",
       "</style>\n",
       "<table border=\"1\" class=\"dataframe\">\n",
       "  <thead>\n",
       "    <tr style=\"text-align: right;\">\n",
       "      <th></th>\n",
       "      <th>Store</th>\n",
       "      <th>Date</th>\n",
       "      <th>Weekly_Sales</th>\n",
       "      <th>Temperature</th>\n",
       "      <th>Unemployment</th>\n",
       "      <th>Region</th>\n",
       "      <th>year</th>\n",
       "    </tr>\n",
       "  </thead>\n",
       "  <tbody>\n",
       "    <tr>\n",
       "      <td>0</td>\n",
       "      <td>1</td>\n",
       "      <td>5/02/2010</td>\n",
       "      <td>24924.50</td>\n",
       "      <td>42.31</td>\n",
       "      <td>8.106</td>\n",
       "      <td>A</td>\n",
       "      <td>2010</td>\n",
       "    </tr>\n",
       "    <tr>\n",
       "      <td>1</td>\n",
       "      <td>1</td>\n",
       "      <td>12/02/2010</td>\n",
       "      <td>46039.49</td>\n",
       "      <td>38.51</td>\n",
       "      <td>8.106</td>\n",
       "      <td>A</td>\n",
       "      <td>2010</td>\n",
       "    </tr>\n",
       "    <tr>\n",
       "      <td>2</td>\n",
       "      <td>1</td>\n",
       "      <td>19/02/2010</td>\n",
       "      <td>41595.55</td>\n",
       "      <td>39.93</td>\n",
       "      <td>8.106</td>\n",
       "      <td>A</td>\n",
       "      <td>2010</td>\n",
       "    </tr>\n",
       "    <tr>\n",
       "      <td>3</td>\n",
       "      <td>1</td>\n",
       "      <td>26/02/2010</td>\n",
       "      <td>19403.54</td>\n",
       "      <td>46.63</td>\n",
       "      <td>8.106</td>\n",
       "      <td>A</td>\n",
       "      <td>2010</td>\n",
       "    </tr>\n",
       "    <tr>\n",
       "      <td>4</td>\n",
       "      <td>1</td>\n",
       "      <td>5/03/2010</td>\n",
       "      <td>21827.90</td>\n",
       "      <td>46.50</td>\n",
       "      <td>8.106</td>\n",
       "      <td>A</td>\n",
       "      <td>2010</td>\n",
       "    </tr>\n",
       "  </tbody>\n",
       "</table>\n",
       "</div>"
      ],
      "text/plain": [
       "   Store        Date  Weekly_Sales  Temperature  Unemployment Region  year\n",
       "0      1   5/02/2010      24924.50        42.31         8.106      A  2010\n",
       "1      1  12/02/2010      46039.49        38.51         8.106      A  2010\n",
       "2      1  19/02/2010      41595.55        39.93         8.106      A  2010\n",
       "3      1  26/02/2010      19403.54        46.63         8.106      A  2010\n",
       "4      1   5/03/2010      21827.90        46.50         8.106      A  2010"
      ]
     },
     "execution_count": 11,
     "metadata": {},
     "output_type": "execute_result"
    }
   ],
   "source": [
    "merge2['year'] = merge2['Date'].apply(lambda x : x.split('/')[2])\n",
    "merge2.head()"
   ]
  },
  {
   "cell_type": "code",
   "execution_count": 22,
   "metadata": {},
   "outputs": [
    {
     "data": {
      "text/plain": [
       "<matplotlib.axes._subplots.AxesSubplot at 0x8e16948>"
      ]
     },
     "execution_count": 22,
     "metadata": {},
     "output_type": "execute_result"
    },
    {
     "data": {
      "image/png": "[encoded data removed]",
      "text/plain": [
       "<Figure size 432x288 with 1 Axes>"
      ]
     },
     "metadata": {
      "needs_background": "light"
     },
     "output_type": "display_data"
    }
   ],
   "source": [
    "bar=merge2.groupby('year')['Weekly_Sales'].sum()\n",
    "bar.plot.bar(x='year',y='Weekly sales',color=['red', 'green', 'blue'])"
   ]
  },
  {
   "cell_type": "code",
   "execution_count": 23,
   "metadata": {},
   "outputs": [
    {
     "data": {
      "text/plain": [
       "<matplotlib.axes._subplots.AxesSubplot at 0x549ae08>"
      ]
     },
     "execution_count": 23,
     "metadata": {},
     "output_type": "execute_result"
    },
    {
     "data": {
      "image/png": "[encoded data removed]",
      "text/plain": [
       "<Figure size 432x288 with 1 Axes>"
      ]
     },
     "metadata": {
      "needs_background": "light"
     },
     "output_type": "display_data"
    }
   ],
   "source": [
    "    merge2.head(25).plot.bar(x='Unemployment', y='Weekly_Sales',color=['black', 'red', 'green', 'blue', 'cyan'])"
   ]
  },
  {
   "cell_type": "code",
   "execution_count": 24,
   "metadata": {},
   "outputs": [
    {
     "data": {
      "text/plain": [
       "<matplotlib.axes._subplots.AxesSubplot at 0x5470688>"
      ]
     },
     "execution_count": 24,
     "metadata": {},
     "output_type": "execute_result"
    },
    {
     "data": {
      "image/png": "[encoded data removed]",
      "text/plain": [
       "<Figure size 432x288 with 1 Axes>"
      ]
     },
     "metadata": {
      "needs_background": "light"
     },
     "output_type": "display_data"
    }
   ],
   "source": [
    "merge2.head(25).plot.bar(x='Temperature', y='Weekly_Sales',color=['black', 'red', 'green', 'blue', 'cyan'])"
   ]
  },
  {
   "cell_type": "code",
   "execution_count": 25,
   "metadata": {},
   "outputs": [
    {
     "data": {
      "text/plain": [
       "<matplotlib.axes._subplots.AxesSubplot at 0x5586b08>"
      ]
     },
     "execution_count": 25,
     "metadata": {},
     "output_type": "execute_result"
    },
    {
     "data": {
      "image/png": "[encoded data removed]",
      "text/plain": [
       "<Figure size 432x288 with 1 Axes>"
      ]
     },
     "metadata": {
      "needs_background": "light"
     },
     "output_type": "display_data"
    }
   ],
   "source": [
    "Re=merge2.groupby('Region')['Weekly_Sales'].mean()\n",
    "Re.plot.bar(x='Region',y='Weekly sales',color=['black', 'red', 'green', 'blue', 'cyan'])"
   ]
  },
  {
   "cell_type": "code",
   "execution_count": null,
   "metadata": {},
   "outputs": [],
   "source": []
  }
 ],
 "metadata": {
  "kernelspec": {
   "display_name": "Python 3",
   "language": "python",
   "name": "python3"
  },
  "language_info": {
   "codemirror_mode": {
    "name": "ipython",
    "version": 3
   },
   "file_extension": ".py",
   "mimetype": "text/x-python",
   "name": "python",
   "nbconvert_exporter": "python",
   "pygments_lexer": "ipython3",
   "version": "3.7.4"
  }
 },
 "nbformat": 4,
 "nbformat_minor": 2
}
